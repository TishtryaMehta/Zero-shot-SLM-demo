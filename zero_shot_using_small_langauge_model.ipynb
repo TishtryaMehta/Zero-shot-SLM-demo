{
 "cells": [
  {
   "cell_type": "code",
   "execution_count": null,
   "metadata": {},
   "outputs": [],
   "source": [
    "import torch\n",
    "import datetime\n",
    "from transformers import AutoModelForCausalLM, AutoTokenizer, pipeline, set_seed\n",
    "import os\n",
    "import pandas as pd"
   ]
  },
  {
   "cell_type": "markdown",
   "metadata": {},
   "source": [
    "### Establish paths for prompts and outputs\n"
   ]
  },
  {
   "cell_type": "code",
   "execution_count": null,
   "metadata": {},
   "outputs": [],
   "source": [
    "MODEL_PATH=\"YOUR_MODEL_PATH_HERE\"\n",
    "SAVE_PATH=\"PATH_TO_WHERE_YOU_WANT_RESULTS_TO_BE_SAVED\"\n",
    "PROMPT_PATH=\"PATH_TO_YOUR_PROMPT\"\n",
    "PROMPT_FILE_FULL='zero_shot_prompt.txt'"
   ]
  },
  {
   "cell_type": "markdown",
   "metadata": {},
   "source": [
    "### Set up Phi 3.5 model. \n",
    "##### Model can be downloaded from https://huggingface.co/microsoft/Phi-3.5-mini-instruct"
   ]
  },
  {
   "cell_type": "code",
   "execution_count": null,
   "metadata": {},
   "outputs": [],
   "source": [
    "set_seed(0)\n",
    "\n",
    "model = AutoModelForCausalLM.from_pretrained(\n",
    "    MODEL_PATH+\"/Phi-3.5-mini-instruct\",\n",
    "    device_map = \"cpu\",\n",
    "    torch_dtype=\"auto\", \n",
    "    trust_remote_code=True, \n",
    ")\n",
    "tokenizer = AutoTokenizer.from_pretrained(MODEL_PATH+\"/Phi-3.5-mini-instruct\")"
   ]
  },
  {
   "cell_type": "markdown",
   "metadata": {},
   "source": [
    "### Read in prompt"
   ]
  },
  {
   "cell_type": "code",
   "execution_count": null,
   "metadata": {},
   "outputs": [],
   "source": [
    "with open(PROMPT_PATH+PROMPT_FILE_FULL, 'r') as f:\n",
    "    zero_shot_prompt=f.read()    \n",
    "print(zero_shot_prompt)"
   ]
  },
  {
   "cell_type": "code",
   "execution_count": null,
   "metadata": {},
   "outputs": [],
   "source": [
    "messages= [zero_shot_prompt]"
   ]
  },
  {
   "cell_type": "code",
   "execution_count": null,
   "metadata": {},
   "outputs": [],
   "source": [
    "pipe = pipeline(\n",
    "    \"text-generation\",\n",
    "    model=model,\n",
    "    tokenizer=tokenizer,\n",
    ")\n",
    "\n",
    "generation_args = {\n",
    "    \"max_new_tokens\": 800,\n",
    "    \"return_full_text\": False,\n",
    "    \"temperature\": 5.0,\n",
    "    \"do_sample\": False,\n",
    "}"
   ]
  },
  {
   "cell_type": "markdown",
   "metadata": {},
   "source": [
    "### Deploy Model\n",
    "\n",
    "##### Choose which messages to run"
   ]
  },
  {
   "cell_type": "code",
   "execution_count": null,
   "metadata": {},
   "outputs": [],
   "source": [
    "before_comp = datetime.datetime.now()\n",
    "output = pipe(messages, **generation_args)\n",
    "after_comp=datetime.datetime.now()"
   ]
  },
  {
   "cell_type": "markdown",
   "metadata": {},
   "source": [
    "### Examine Output"
   ]
  },
  {
   "cell_type": "code",
   "execution_count": 55,
   "metadata": {},
   "outputs": [
    {
     "name": "stdout",
     "output_type": "stream",
     "text": [
      "Time taken: 0:08:23.103104\n"
     ]
    }
   ],
   "source": [
    "timetaken=after_comp-before_comp\n",
    "print('Time taken:', timetaken)"
   ]
  },
  {
   "cell_type": "code",
   "execution_count": 56,
   "metadata": {},
   "outputs": [],
   "source": [
    "output_for_csv=output[0][0]['generated_text']"
   ]
  },
  {
   "cell_type": "markdown",
   "metadata": {},
   "source": [
    "### Save as .txt file"
   ]
  },
  {
   "cell_type": "code",
   "execution_count": 60,
   "metadata": {},
   "outputs": [],
   "source": [
    "with open(SAVE_PATH+\"Output_as_txt.txt\", 'a') as test_txt:\n",
    "    test_txt.write( '\\n Time taken for iteration:')\n",
    "    test_txt.write(str(timetaken))\n",
    "    test_txt.write('\\n')\n",
    "test_txt.close()\n",
    "\n",
    "with open(SAVE_PATH+\"Output_as_txt.txt\", 'a') as test_txt:\n",
    "    for item in output_for_csv:\n",
    "        test_txt.write(item)\n",
    "test_txt.close()"
   ]
  }
 ],
 "metadata": {
  "kernelspec": {
   "display_name": "phi_env_py311",
   "language": "python",
   "name": "python3"
  },
  "language_info": {
   "codemirror_mode": {
    "name": "ipython",
    "version": 3
   },
   "file_extension": ".py",
   "mimetype": "text/x-python",
   "name": "python",
   "nbconvert_exporter": "python",
   "pygments_lexer": "ipython3",
   "version": "3.11.11"
  }
 },
 "nbformat": 4,
 "nbformat_minor": 2
}
